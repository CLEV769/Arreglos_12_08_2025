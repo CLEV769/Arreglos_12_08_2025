{
  "nbformat": 4,
  "nbformat_minor": 0,
  "metadata": {
    "colab": {
      "provenance": [],
      "authorship_tag": "ABX9TyPb/9/SyGPdr7+JC9wmUjOy",
      "include_colab_link": true
    },
    "kernelspec": {
      "name": "python3",
      "display_name": "Python 3"
    },
    "language_info": {
      "name": "python"
    }
  },
  "cells": [
    {
      "cell_type": "markdown",
      "metadata": {
        "id": "view-in-github",
        "colab_type": "text"
      },
      "source": [
        "<a href=\"https://colab.research.google.com/github/CLEV769/Arreglos_12_08_2025/blob/main/matrices.ipynb\" target=\"_parent\"><img src=\"https://colab.research.google.com/assets/colab-badge.svg\" alt=\"Open In Colab\"/></a>"
      ]
    },
    {
      "cell_type": "code",
      "execution_count": 5,
      "metadata": {
        "colab": {
          "base_uri": "https://localhost:8080/"
        },
        "id": "oasixPwbMkUC",
        "outputId": "15a74930-a7a0-48e5-f3b8-6259bcc873d5"
      },
      "outputs": [
        {
          "output_type": "stream",
          "name": "stdout",
          "text": [
            "[[76 86 90]\n",
            " [78 14 29]\n",
            " [69 95 82]]\n",
            "\u001b[31mMatriz aleatoria 2:\u001b[0m ⬇\n",
            "[[64 38 48]\n",
            " [18 95  8]\n",
            " [81 53 99]]\n",
            "\u001b[32mMatriz identidad:\u001b[0m\n",
            "[[1. 0. 0. 0. 0. 0. 0. 0. 0.]\n",
            " [0. 1. 0. 0. 0. 0. 0. 0. 0.]\n",
            " [0. 0. 1. 0. 0. 0. 0. 0. 0.]\n",
            " [0. 0. 0. 1. 0. 0. 0. 0. 0.]\n",
            " [0. 0. 0. 0. 1. 0. 0. 0. 0.]\n",
            " [0. 0. 0. 0. 0. 1. 0. 0. 0.]\n",
            " [0. 0. 0. 0. 0. 0. 1. 0. 0.]\n",
            " [0. 0. 0. 0. 0. 0. 0. 1. 0.]\n",
            " [0. 0. 0. 0. 0. 0. 0. 0. 1.]]\n",
            "\u001b[33mMatriz transpuesta:\u001b[0m\n",
            "[[76 78 69]\n",
            " [86 14 95]\n",
            " [90 29 82]]\n",
            "\u001b[38m [[1. 0.]\n",
            " [0. 1.]] \u001b[0m\n",
            "-----------------------------------------------------------------\n",
            "\u001b[34mMatriz de ceros:\u001b[0m\n",
            "[[2. 5.]\n",
            " [3. 5.]]\n"
          ]
        }
      ],
      "source": [
        "import numpy as np\n",
        "\n",
        "#Matrices\n",
        "#crear una matriz de 3x3 con valores aleatorios\n",
        "matriz = np.random.randint(0, 100, (3, 3))#creamos la matriz de aleatorios , el rango es de 1 a 100 de tamaño\n",
        "print(matriz)                             #3x3 esto significa que son 9 elementos\n",
        "matriz2 = np.random.Generator(np.random.PCG64()).integers(0, 100, (3, 3))#creamos la matriz de aleatorios ,\n",
        "print(\"\\033[31mMatriz aleatoria 2:\\033[0m ⬇\")                            #el rango es de 1 a 100 de tamaño 3x3 (Esta es otra forma de hacerlo)\n",
        "print(matriz2)  # Imprime la segunda matriz debajo\n",
        "\n",
        "#crear matriz identidad de 9x9\n",
        "matriz_identidad = np.eye(9) #creamos una matriz identidad de 9x9\n",
        "print(\"\\033[32mMatriz identidad:\\033[0m\")  # Imprime el texto\n",
        "print(matriz_identidad)  # Imprime la matriz identidad\n",
        "\n",
        "#matriz transpuesta (transpuesta = pasar de columna a fila)\n",
        "matriz_transpuesta = matriz.T #transponer la matriz identidad en color verde\n",
        "print(\"\\033[33mMatriz transpuesta:\\033[0m\")  # Imprime el texto\n",
        "print(matriz_transpuesta)  # Imprime la matriz transpuesta\n",
        "\n",
        "\n",
        "matriz_zeros = np.zeros((2, 2)) #creamos una matriz de ceros de tamaño 2x2\n",
        "for incrementador in range(2):\n",
        "    matriz_zeros[incrementador][incrementador] = 1  # Pone 1 en la diagonal principal\n",
        "print(\"\\033[38m\", matriz_zeros, \"\\033[0m\")  # Imprime la matriz de ceros en color morado\n",
        "print(\"-----------------------------------------------------------------\")\n",
        "for fila in range(2):\n",
        "    for col in range(2):\n",
        "        matriz_zeros[fila][col] = (np.random.randint(0,10)) + 1\n",
        "print(\"\\033[34mMatriz de ceros:\\033[0m\")  # Imprime el texto\n",
        "print(matriz_zeros)  # Imprime la matriz de ceros"
      ]
    }
  ]
}