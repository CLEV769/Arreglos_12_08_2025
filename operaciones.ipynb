{
  "nbformat": 4,
  "nbformat_minor": 0,
  "metadata": {
    "colab": {
      "provenance": [],
      "authorship_tag": "ABX9TyOkVPzq6f72PVvkCFMH+YDX",
      "include_colab_link": true
    },
    "kernelspec": {
      "name": "python3",
      "display_name": "Python 3"
    },
    "language_info": {
      "name": "python"
    }
  },
  "cells": [
    {
      "cell_type": "markdown",
      "metadata": {
        "id": "view-in-github",
        "colab_type": "text"
      },
      "source": [
        "<a href=\"https://colab.research.google.com/github/CLEV769/Arreglos_12_08_2025/blob/main/operaciones.ipynb\" target=\"_parent\"><img src=\"https://colab.research.google.com/assets/colab-badge.svg\" alt=\"Open In Colab\"/></a>"
      ]
    },
    {
      "cell_type": "code",
      "execution_count": 3,
      "metadata": {
        "colab": {
          "base_uri": "https://localhost:8080/"
        },
        "id": "oasixPwbMkUC",
        "outputId": "6b22a747-d6b3-4f2e-9ff4-bc1dd615f534"
      },
      "outputs": [
        {
          "output_type": "stream",
          "name": "stdout",
          "text": [
            "Producto de vectores [ 1  4  9 16 25]\n",
            "Division de vectores [1. 1. 1. 1. 1.]\n",
            "Suma de vectores [ 2  4  6  8 10]\n",
            "Resta de vectores [0 0 0 0 0]\n",
            "Potencia de vectores [ 1  4  9 16 25]\n"
          ]
        }
      ],
      "source": [
        "import numpy as np\n",
        "\n",
        "vector1 = np.array([1, 2, 3, 4, 5])\n",
        "vector2 = np.array([1, 2, 3, 4, 5])\n",
        "producto = vector1 * vector2\n",
        "print(\"Producto de vectores\",producto)\n",
        "\n",
        "division = vector1 / vector2\n",
        "print(\"Division de vectores\",division)\n",
        "\n",
        "suma= vector1 + vector2\n",
        "print(\"Suma de vectores\",suma)\n",
        "\n",
        "resta = vector1 - vector2\n",
        "print(\"Resta de vectores\",resta)\n",
        "\n",
        "potencia = vector1 ** 2\n",
        "print(\"Potencia de vectores\",potencia)\n",
        "\n",
        "\n"
      ]
    },
    {
      "cell_type": "markdown",
      "source": [
        "los vectores son reservas de memoria para almacenar informacion, solo puede ser de un tipo,\n",
        "si es numerico tiene que ser numerico, si es texto tiene que ser texto, esto aplica para las matrices.\n",
        "Los arreglos son identificadores estaticos, esto significa que es otra forma de definir variables y\n",
        "constantes"
      ],
      "metadata": {
        "id": "1e4hGT8eVeeQ"
      }
    }
  ]
}