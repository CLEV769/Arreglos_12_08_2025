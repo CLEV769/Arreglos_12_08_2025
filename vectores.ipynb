{
  "nbformat": 4,
  "nbformat_minor": 0,
  "metadata": {
    "colab": {
      "provenance": [],
      "authorship_tag": "ABX9TyNwJZ9Uk2HOa40Sp5MhS2N4",
      "include_colab_link": true
    },
    "kernelspec": {
      "name": "python3",
      "display_name": "Python 3"
    },
    "language_info": {
      "name": "python"
    }
  },
  "cells": [
    {
      "cell_type": "markdown",
      "metadata": {
        "id": "view-in-github",
        "colab_type": "text"
      },
      "source": [
        "<a href=\"https://colab.research.google.com/github/CLEV769/Arreglos_12_08_2025/blob/main/vectores.ipynb\" target=\"_parent\"><img src=\"https://colab.research.google.com/assets/colab-badge.svg\" alt=\"Open In Colab\"/></a>"
      ]
    },
    {
      "cell_type": "code",
      "execution_count": 2,
      "metadata": {
        "colab": {
          "base_uri": "https://localhost:8080/"
        },
        "id": "oasixPwbMkUC",
        "outputId": "04def54a-8a47-4674-8194-9fbe440bb252"
      },
      "outputs": [
        {
          "output_type": "stream",
          "name": "stdout",
          "text": [
            "[0. 0. 0. 0. 0.]\n",
            "[1. 1. 1. 1. 1.]\n",
            "rango: [1 2 3 4 5 6 7 8 9]\n",
            "linspace: [ 1.    3.25  5.5   7.75 10.  ]\n",
            "random: [0.88330222 0.49929848 0.50820146 0.63795712 0.88328356 0.0832819\n",
            " 0.03780231 0.43133538 0.14823814 0.98977836]\n",
            "randint: [11  8 84 69 13 94 12  5 85 59]\n"
          ]
        }
      ],
      "source": [
        "import numpy as np\n",
        "vector1 = np.zeros(5)  # crea un vector de ceros de tamaño 5\n",
        "print(vector1)\n",
        "\n",
        "vector2 = np.ones(5)   # crea un vector de unos de tamaño 5\n",
        "print(vector2)\n",
        "\n",
        "vector3 = np.arange(1,10)  # crea un vector con valores aleatorios entre 1 y 5\n",
        "print(\"rango:\", vector3)\n",
        "\n",
        "vector4 = np.linspace(1, 10, 5)  # crea un vector con 5 valores igualmente espaciados entre 1 y 10\n",
        "print(\"linspace:\", vector4)\n",
        "\n",
        "vector5 = np.random.rand(10) # crea un vector con 10 valores aleatorios entre 0 y 1\n",
        "print(\"random:\", vector5)\n",
        "\n",
        "vector6 = np.random.randint(1, 100, 10) # crea un vector con 10 valores enteros aleatorios entre 1 y 100\n",
        "print(\"randint:\", vector6)\n"
      ]
    },
    {
      "cell_type": "markdown",
      "source": [
        "los vectores son reservas de memoria para almacenar informacion, solo puede ser de un tipo,\n",
        "si es numerico tiene que ser numerico, si es texto tiene que ser texto, esto aplica para las matrices.\n",
        "Los arreglos son identificadores estaticos, esto significa que es otra forma de definir variables y\n",
        "constantes"
      ],
      "metadata": {
        "id": "1e4hGT8eVeeQ"
      }
    }
  ]
}